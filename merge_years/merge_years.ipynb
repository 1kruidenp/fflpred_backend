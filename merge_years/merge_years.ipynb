{
 "cells": [
  {
   "cell_type": "code",
   "execution_count": 59,
   "id": "cf002288",
   "metadata": {
    "ExecuteTime": {
     "end_time": "2021-06-07T15:30:40.102290Z",
     "start_time": "2021-06-07T15:30:40.096079Z"
    }
   },
   "outputs": [],
   "source": [
    "import pandas as pd\n",
    "import numpy as np\n",
    "import matplotlib.pyplot as plt\n",
    "import pickle"
   ]
  },
  {
   "cell_type": "code",
   "execution_count": 60,
   "id": "0bf7b020",
   "metadata": {
    "ExecuteTime": {
     "end_time": "2021-06-07T15:30:40.619786Z",
     "start_time": "2021-06-07T15:30:40.421351Z"
    }
   },
   "outputs": [
    {
     "name": "stdout",
     "output_type": "stream",
     "text": [
      "\u001b[1m\u001b[36m2016-17\u001b[m\u001b[m          \u001b[1m\u001b[36m2018-19\u001b[m\u001b[m          \u001b[1m\u001b[36m2020-21\u001b[m\u001b[m\r\n",
      "\u001b[1m\u001b[36m2017-18\u001b[m\u001b[m          \u001b[1m\u001b[36m2019-20\u001b[m\u001b[m          full_data.pickle\r\n"
     ]
    }
   ],
   "source": [
    "!ls ../raw_data/"
   ]
  },
  {
   "cell_type": "markdown",
   "id": "4a372f93",
   "metadata": {},
   "source": [
    "## Import all datasets for the full years"
   ]
  },
  {
   "cell_type": "code",
   "execution_count": 61,
   "id": "2ac49ccf",
   "metadata": {
    "ExecuteTime": {
     "end_time": "2021-06-07T15:30:41.546742Z",
     "start_time": "2021-06-07T15:30:41.216639Z"
    }
   },
   "outputs": [],
   "source": [
    "# Importing each season as a dataframe and adding a column identifying the season\n",
    "raw_data_path = '../raw_data'\n",
    "\n",
    "df21 = pd.read_csv(raw_data_path + '/2020-21/gws/merged_gw.csv', encoding='utf_8')\n",
    "df20 = pd.read_csv(raw_data_path + '/2019-20/gws/merged_gw.csv', encoding='utf_8')\n",
    "df19 = pd.read_csv(raw_data_path + '/2018-19/gws/merged_gw.csv', encoding='ISO-8859-1')\n",
    "df18 = pd.read_csv(raw_data_path + '/2017-18/gws/merged_gw.csv', encoding='ISO-8859-1')\n",
    "df17 = pd.read_csv(raw_data_path + '/2016-17/gws/merged_gw.csv', encoding='ISO-8859-1')\n",
    "\n",
    "df21['season'] = 21\n",
    "df20['season'] = 20\n",
    "df19['season'] = 19\n",
    "df18['season'] = 18\n",
    "df17['season'] = 17"
   ]
  },
  {
   "cell_type": "code",
   "execution_count": 62,
   "id": "7ce2c88c",
   "metadata": {
    "ExecuteTime": {
     "end_time": "2021-06-07T15:30:41.895583Z",
     "start_time": "2021-06-07T15:30:41.887264Z"
    }
   },
   "outputs": [],
   "source": [
    "dflist = [df17, df18, df19, df20, df21]"
   ]
  },
  {
   "cell_type": "code",
   "execution_count": 63,
   "id": "ed5cd05d",
   "metadata": {
    "ExecuteTime": {
     "end_time": "2021-06-07T15:30:42.397072Z",
     "start_time": "2021-06-07T15:30:42.369641Z"
    }
   },
   "outputs": [
    {
     "data": {
      "text/plain": [
       "name    Isaac_Mbenza_514\n",
       "Name: 1799, dtype: object"
      ]
     },
     "execution_count": 63,
     "metadata": {},
     "output_type": "execute_result"
    }
   ],
   "source": [
    "df19.loc[1799, ['name']]"
   ]
  },
  {
   "cell_type": "code",
   "execution_count": 64,
   "id": "d1b3424b",
   "metadata": {
    "ExecuteTime": {
     "end_time": "2021-06-07T15:30:43.058644Z",
     "start_time": "2021-06-07T15:30:43.021137Z"
    },
    "scrolled": false
   },
   "outputs": [
    {
     "data": {
      "text/html": [
       "<div>\n",
       "<style scoped>\n",
       "    .dataframe tbody tr th:only-of-type {\n",
       "        vertical-align: middle;\n",
       "    }\n",
       "\n",
       "    .dataframe tbody tr th {\n",
       "        vertical-align: top;\n",
       "    }\n",
       "\n",
       "    .dataframe thead th {\n",
       "        text-align: right;\n",
       "    }\n",
       "</style>\n",
       "<table border=\"1\" class=\"dataframe\">\n",
       "  <thead>\n",
       "    <tr style=\"text-align: right;\">\n",
       "      <th></th>\n",
       "      <th>name</th>\n",
       "      <th>position</th>\n",
       "      <th>team</th>\n",
       "      <th>xP</th>\n",
       "      <th>assists</th>\n",
       "      <th>bonus</th>\n",
       "      <th>bps</th>\n",
       "      <th>clean_sheets</th>\n",
       "      <th>creativity</th>\n",
       "      <th>element</th>\n",
       "      <th>...</th>\n",
       "      <th>threat</th>\n",
       "      <th>total_points</th>\n",
       "      <th>transfers_balance</th>\n",
       "      <th>transfers_in</th>\n",
       "      <th>transfers_out</th>\n",
       "      <th>value</th>\n",
       "      <th>was_home</th>\n",
       "      <th>yellow_cards</th>\n",
       "      <th>GW</th>\n",
       "      <th>season</th>\n",
       "    </tr>\n",
       "  </thead>\n",
       "  <tbody>\n",
       "    <tr>\n",
       "      <th>0</th>\n",
       "      <td>Aaron Connolly</td>\n",
       "      <td>FWD</td>\n",
       "      <td>Brighton</td>\n",
       "      <td>0.5</td>\n",
       "      <td>0</td>\n",
       "      <td>0</td>\n",
       "      <td>-3</td>\n",
       "      <td>0</td>\n",
       "      <td>0.3</td>\n",
       "      <td>78</td>\n",
       "      <td>...</td>\n",
       "      <td>32.0</td>\n",
       "      <td>1</td>\n",
       "      <td>0</td>\n",
       "      <td>0</td>\n",
       "      <td>0</td>\n",
       "      <td>55</td>\n",
       "      <td>True</td>\n",
       "      <td>0</td>\n",
       "      <td>1</td>\n",
       "      <td>21</td>\n",
       "    </tr>\n",
       "    <tr>\n",
       "      <th>1</th>\n",
       "      <td>Aaron Cresswell</td>\n",
       "      <td>DEF</td>\n",
       "      <td>West Ham</td>\n",
       "      <td>2.1</td>\n",
       "      <td>0</td>\n",
       "      <td>0</td>\n",
       "      <td>11</td>\n",
       "      <td>0</td>\n",
       "      <td>11.2</td>\n",
       "      <td>435</td>\n",
       "      <td>...</td>\n",
       "      <td>0.0</td>\n",
       "      <td>1</td>\n",
       "      <td>0</td>\n",
       "      <td>0</td>\n",
       "      <td>0</td>\n",
       "      <td>50</td>\n",
       "      <td>True</td>\n",
       "      <td>0</td>\n",
       "      <td>1</td>\n",
       "      <td>21</td>\n",
       "    </tr>\n",
       "    <tr>\n",
       "      <th>2</th>\n",
       "      <td>Aaron Mooy</td>\n",
       "      <td>MID</td>\n",
       "      <td>Brighton</td>\n",
       "      <td>0.0</td>\n",
       "      <td>0</td>\n",
       "      <td>0</td>\n",
       "      <td>0</td>\n",
       "      <td>0</td>\n",
       "      <td>0.0</td>\n",
       "      <td>60</td>\n",
       "      <td>...</td>\n",
       "      <td>0.0</td>\n",
       "      <td>0</td>\n",
       "      <td>0</td>\n",
       "      <td>0</td>\n",
       "      <td>0</td>\n",
       "      <td>50</td>\n",
       "      <td>True</td>\n",
       "      <td>0</td>\n",
       "      <td>1</td>\n",
       "      <td>21</td>\n",
       "    </tr>\n",
       "    <tr>\n",
       "      <th>3</th>\n",
       "      <td>Aaron Ramsdale</td>\n",
       "      <td>GK</td>\n",
       "      <td>Sheffield Utd</td>\n",
       "      <td>2.5</td>\n",
       "      <td>0</td>\n",
       "      <td>0</td>\n",
       "      <td>12</td>\n",
       "      <td>0</td>\n",
       "      <td>0.0</td>\n",
       "      <td>483</td>\n",
       "      <td>...</td>\n",
       "      <td>0.0</td>\n",
       "      <td>1</td>\n",
       "      <td>0</td>\n",
       "      <td>0</td>\n",
       "      <td>0</td>\n",
       "      <td>50</td>\n",
       "      <td>True</td>\n",
       "      <td>0</td>\n",
       "      <td>1</td>\n",
       "      <td>21</td>\n",
       "    </tr>\n",
       "    <tr>\n",
       "      <th>4</th>\n",
       "      <td>Abdoulaye Doucouré</td>\n",
       "      <td>MID</td>\n",
       "      <td>Everton</td>\n",
       "      <td>1.3</td>\n",
       "      <td>0</td>\n",
       "      <td>0</td>\n",
       "      <td>20</td>\n",
       "      <td>1</td>\n",
       "      <td>44.6</td>\n",
       "      <td>512</td>\n",
       "      <td>...</td>\n",
       "      <td>4.0</td>\n",
       "      <td>3</td>\n",
       "      <td>0</td>\n",
       "      <td>0</td>\n",
       "      <td>0</td>\n",
       "      <td>55</td>\n",
       "      <td>False</td>\n",
       "      <td>0</td>\n",
       "      <td>1</td>\n",
       "      <td>21</td>\n",
       "    </tr>\n",
       "  </tbody>\n",
       "</table>\n",
       "<p>5 rows × 37 columns</p>\n",
       "</div>"
      ],
      "text/plain": [
       "                 name position           team   xP  assists  bonus  bps  \\\n",
       "0      Aaron Connolly      FWD       Brighton  0.5        0      0   -3   \n",
       "1     Aaron Cresswell      DEF       West Ham  2.1        0      0   11   \n",
       "2          Aaron Mooy      MID       Brighton  0.0        0      0    0   \n",
       "3      Aaron Ramsdale       GK  Sheffield Utd  2.5        0      0   12   \n",
       "4  Abdoulaye Doucouré      MID        Everton  1.3        0      0   20   \n",
       "\n",
       "   clean_sheets  creativity  element  ...  threat  total_points  \\\n",
       "0             0         0.3       78  ...    32.0             1   \n",
       "1             0        11.2      435  ...     0.0             1   \n",
       "2             0         0.0       60  ...     0.0             0   \n",
       "3             0         0.0      483  ...     0.0             1   \n",
       "4             1        44.6      512  ...     4.0             3   \n",
       "\n",
       "   transfers_balance  transfers_in  transfers_out value  was_home  \\\n",
       "0                  0             0              0    55      True   \n",
       "1                  0             0              0    50      True   \n",
       "2                  0             0              0    50      True   \n",
       "3                  0             0              0    50      True   \n",
       "4                  0             0              0    55     False   \n",
       "\n",
       "   yellow_cards  GW  season  \n",
       "0             0   1      21  \n",
       "1             0   1      21  \n",
       "2             0   1      21  \n",
       "3             0   1      21  \n",
       "4             0   1      21  \n",
       "\n",
       "[5 rows x 37 columns]"
      ]
     },
     "execution_count": 64,
     "metadata": {},
     "output_type": "execute_result"
    }
   ],
   "source": [
    "df21.head()"
   ]
  },
  {
   "cell_type": "code",
   "execution_count": 65,
   "id": "71759381",
   "metadata": {
    "ExecuteTime": {
     "end_time": "2021-06-07T15:30:46.608572Z",
     "start_time": "2021-06-07T15:30:46.598788Z"
    }
   },
   "outputs": [
    {
     "data": {
      "text/plain": [
       "name             object\n",
       "position         object\n",
       "team             object\n",
       "xP              float64\n",
       "assists           int64\n",
       "                 ...   \n",
       "value             int64\n",
       "was_home           bool\n",
       "yellow_cards      int64\n",
       "GW                int64\n",
       "season            int64\n",
       "Length: 37, dtype: object"
      ]
     },
     "execution_count": 65,
     "metadata": {},
     "output_type": "execute_result"
    }
   ],
   "source": [
    "df21.dtypes"
   ]
  },
  {
   "cell_type": "markdown",
   "id": "e044ca01",
   "metadata": {},
   "source": [
    "## Create list with all consistent column names throughout all years"
   ]
  },
  {
   "cell_type": "code",
   "execution_count": 66,
   "id": "c915fedd",
   "metadata": {
    "ExecuteTime": {
     "end_time": "2021-06-07T15:30:48.035475Z",
     "start_time": "2021-06-07T15:30:48.027902Z"
    }
   },
   "outputs": [],
   "source": [
    "consistent_columns = []\n",
    "for column in list(df21.columns):\n",
    "    if column in list(df20.columns) and \\\n",
    "       column in list(df19.columns) and \\\n",
    "       column in list(df18.columns) and \\\n",
    "       column in list(df17.columns):\n",
    "        consistent_columns.append(column)"
   ]
  },
  {
   "cell_type": "code",
   "execution_count": 67,
   "id": "a317bb41",
   "metadata": {
    "ExecuteTime": {
     "end_time": "2021-06-07T15:30:48.927549Z",
     "start_time": "2021-06-07T15:30:48.920017Z"
    }
   },
   "outputs": [
    {
     "data": {
      "text/plain": [
       "['name',\n",
       " 'assists',\n",
       " 'bonus',\n",
       " 'bps',\n",
       " 'clean_sheets',\n",
       " 'creativity',\n",
       " 'element',\n",
       " 'fixture',\n",
       " 'goals_conceded',\n",
       " 'goals_scored',\n",
       " 'ict_index',\n",
       " 'influence',\n",
       " 'kickoff_time',\n",
       " 'minutes',\n",
       " 'opponent_team',\n",
       " 'own_goals',\n",
       " 'penalties_missed',\n",
       " 'penalties_saved',\n",
       " 'red_cards',\n",
       " 'round',\n",
       " 'saves',\n",
       " 'selected',\n",
       " 'team_a_score',\n",
       " 'team_h_score',\n",
       " 'threat',\n",
       " 'total_points',\n",
       " 'transfers_balance',\n",
       " 'transfers_in',\n",
       " 'transfers_out',\n",
       " 'value',\n",
       " 'was_home',\n",
       " 'yellow_cards',\n",
       " 'GW',\n",
       " 'season']"
      ]
     },
     "execution_count": 67,
     "metadata": {},
     "output_type": "execute_result"
    }
   ],
   "source": [
    "consistent_columns"
   ]
  },
  {
   "cell_type": "markdown",
   "id": "c5ed9ef9",
   "metadata": {},
   "source": [
    "## Check which columns are missing in other years"
   ]
  },
  {
   "cell_type": "code",
   "execution_count": 68,
   "id": "0d7e85c8",
   "metadata": {
    "ExecuteTime": {
     "end_time": "2021-06-07T15:30:51.800116Z",
     "start_time": "2021-06-07T15:30:51.720243Z"
    }
   },
   "outputs": [
    {
     "data": {
      "text/plain": [
       "{'attempted_passes': [17, 18, 19],\n",
       " 'big_chances_created': [17, 18, 19],\n",
       " 'big_chances_missed': [17, 18, 19],\n",
       " 'clearances_blocks_interceptions': [17, 18, 19],\n",
       " 'completed_passes': [17, 18, 19],\n",
       " 'dribbles': [17, 18, 19],\n",
       " 'ea_index': [17, 18, 19],\n",
       " 'errors_leading_to_goal': [17, 18, 19],\n",
       " 'errors_leading_to_goal_attempt': [17, 18, 19],\n",
       " 'fouls': [17, 18, 19],\n",
       " 'id': [17, 18, 19],\n",
       " 'key_passes': [17, 18, 19],\n",
       " 'kickoff_time_formatted': [17, 18, 19],\n",
       " 'loaned_in': [17, 18, 19],\n",
       " 'loaned_out': [17, 18, 19],\n",
       " 'offside': [17, 18, 19],\n",
       " 'open_play_crosses': [17, 18, 19],\n",
       " 'penalties_conceded': [17, 18, 19],\n",
       " 'recoveries': [17, 18, 19],\n",
       " 'tackled': [17, 18, 19],\n",
       " 'tackles': [17, 18, 19],\n",
       " 'target_missed': [17, 18, 19],\n",
       " 'winning_goals': [17, 18, 19],\n",
       " 'position': [21],\n",
       " 'team': [21],\n",
       " 'xP': [21]}"
      ]
     },
     "execution_count": 68,
     "metadata": {},
     "output_type": "execute_result"
    }
   ],
   "source": [
    "# Creating a dictionary with columns that are only in some years. \n",
    "# Key = column name, value = years for which the column exists.\n",
    "missing_columns = {}\n",
    "for df in dflist:\n",
    "    for column in list(df.columns):\n",
    "        if not column in consistent_columns:\n",
    "            if column in missing_columns.keys():\n",
    "                missing_columns[column].append(df.loc[0,['season']][0])\n",
    "            else:\n",
    "                missing_columns[column] = [df.loc[0,['season']][0]]\n",
    "                \n",
    "missing_columns"
   ]
  },
  {
   "cell_type": "markdown",
   "id": "bfd930af",
   "metadata": {},
   "source": [
    "## Concatenate years based on consistent columns"
   ]
  },
  {
   "cell_type": "code",
   "execution_count": 69,
   "id": "049a8cf3",
   "metadata": {
    "ExecuteTime": {
     "end_time": "2021-06-07T15:30:54.276749Z",
     "start_time": "2021-06-07T15:30:54.204342Z"
    }
   },
   "outputs": [],
   "source": [
    "# Concatenate seasons based on consistent columns\n",
    "frames_to_concat = [df21[consistent_columns], \n",
    "                    df20[consistent_columns], \n",
    "                    df19[consistent_columns], \n",
    "                    df18[consistent_columns], \n",
    "                    df17[consistent_columns]]\n",
    "\n",
    "complete_data = pd.concat(frames_to_concat)"
   ]
  },
  {
   "cell_type": "code",
   "execution_count": 70,
   "id": "fc44dae3",
   "metadata": {
    "ExecuteTime": {
     "end_time": "2021-06-07T15:30:57.031047Z",
     "start_time": "2021-06-07T15:30:56.974604Z"
    }
   },
   "outputs": [],
   "source": [
    "# Drop column 'round' as it is the same as 'GW'\n",
    "complete_data.drop(columns = ['round'], inplace = True)"
   ]
  },
  {
   "cell_type": "code",
   "execution_count": 80,
   "id": "e12e61cc",
   "metadata": {
    "ExecuteTime": {
     "end_time": "2021-06-07T15:33:41.156790Z",
     "start_time": "2021-06-07T15:33:41.089288Z"
    }
   },
   "outputs": [],
   "source": [
    "complete_data.name = complete_data.name.str.rstrip('_1234567890')"
   ]
  },
  {
   "cell_type": "code",
   "execution_count": 88,
   "id": "2ea49372",
   "metadata": {
    "ExecuteTime": {
     "end_time": "2021-06-07T15:37:42.038793Z",
     "start_time": "2021-06-07T15:37:41.980727Z"
    }
   },
   "outputs": [],
   "source": [
    "complete_data.name = complete_data.name.str.replace('_', ' ')"
   ]
  },
  {
   "cell_type": "code",
   "execution_count": 100,
   "id": "1c8bd25a",
   "metadata": {
    "ExecuteTime": {
     "end_time": "2021-06-07T15:49:19.415322Z",
     "start_time": "2021-06-07T15:49:19.376278Z"
    }
   },
   "outputs": [
    {
     "data": {
      "text/plain": [
       "Ben Davies                 207\n",
       "Sergio Agüero              191\n",
       "Kevin De Bruyne            191\n",
       "Ross Barkley               191\n",
       "Cédric Soares              191\n",
       "Nicolás Otamendi           191\n",
       "John Stones                191\n",
       "Raheem Sterling            191\n",
       "Fernando Luiz Rosa         191\n",
       "Calum Chambers             191\n",
       "Kyle Walker                191\n",
       "Ilkay Gündogan             191\n",
       "Mesut Özil                 191\n",
       "Héctor Bellerín            191\n",
       "Granit Xhaka               191\n",
       "Riyad Mahrez               191\n",
       "Rob Holding                191\n",
       "Oriol Romeu Vidal          190\n",
       "Alex Oxlade-Chamberlain    190\n",
       "Tom Davies                 190\n",
       "Name: name, dtype: int64"
      ]
     },
     "execution_count": 100,
     "metadata": {},
     "output_type": "execute_result"
    }
   ],
   "source": [
    "complete_data.name.value_counts().head(20)"
   ]
  },
  {
   "cell_type": "code",
   "execution_count": 90,
   "id": "4112ae81",
   "metadata": {
    "ExecuteTime": {
     "end_time": "2021-06-07T15:37:53.580899Z",
     "start_time": "2021-06-07T15:37:53.549667Z"
    }
   },
   "outputs": [
    {
     "data": {
      "text/plain": [
       "1517"
      ]
     },
     "execution_count": 90,
     "metadata": {},
     "output_type": "execute_result"
    }
   ],
   "source": [
    "complete_data.name.nunique()"
   ]
  },
  {
   "cell_type": "code",
   "execution_count": 50,
   "id": "14667cbf",
   "metadata": {
    "ExecuteTime": {
     "end_time": "2021-06-07T14:47:22.210297Z",
     "start_time": "2021-06-07T14:47:22.167742Z"
    }
   },
   "outputs": [],
   "source": [
    "#complete_data.to_pickle('../raw_data/full_data.pickle')"
   ]
  },
  {
   "cell_type": "code",
   "execution_count": 51,
   "id": "d999df68",
   "metadata": {
    "ExecuteTime": {
     "end_time": "2021-06-07T14:47:57.871446Z",
     "start_time": "2021-06-07T14:47:57.828885Z"
    }
   },
   "outputs": [],
   "source": [
    "#test = pd.read_pickle('../raw_data/full_data.pickle')"
   ]
  },
  {
   "cell_type": "code",
   "execution_count": 53,
   "id": "cdaeccb0",
   "metadata": {
    "ExecuteTime": {
     "end_time": "2021-06-07T14:48:10.987290Z",
     "start_time": "2021-06-07T14:48:10.938759Z"
    }
   },
   "outputs": [
    {
     "name": "stdout",
     "output_type": "stream",
     "text": [
      "<class 'pandas.core.frame.DataFrame'>\n",
      "Int64Index: 114861 entries, 0 to 23678\n",
      "Data columns (total 33 columns):\n",
      " #   Column             Non-Null Count   Dtype  \n",
      "---  ------             --------------   -----  \n",
      " 0   name               114861 non-null  object \n",
      " 1   assists            114861 non-null  int64  \n",
      " 2   bonus              114861 non-null  int64  \n",
      " 3   bps                114861 non-null  int64  \n",
      " 4   clean_sheets       114861 non-null  int64  \n",
      " 5   creativity         114861 non-null  float64\n",
      " 6   element            114861 non-null  int64  \n",
      " 7   fixture            114861 non-null  int64  \n",
      " 8   goals_conceded     114861 non-null  int64  \n",
      " 9   goals_scored       114861 non-null  int64  \n",
      " 10  ict_index          114861 non-null  float64\n",
      " 11  influence          114861 non-null  float64\n",
      " 12  kickoff_time       114861 non-null  object \n",
      " 13  minutes            114861 non-null  int64  \n",
      " 14  opponent_team      114861 non-null  int64  \n",
      " 15  own_goals          114861 non-null  int64  \n",
      " 16  penalties_missed   114861 non-null  int64  \n",
      " 17  penalties_saved    114861 non-null  int64  \n",
      " 18  red_cards          114861 non-null  int64  \n",
      " 19  saves              114861 non-null  int64  \n",
      " 20  selected           114861 non-null  int64  \n",
      " 21  team_a_score       114802 non-null  float64\n",
      " 22  team_h_score       114802 non-null  float64\n",
      " 23  threat             114861 non-null  float64\n",
      " 24  total_points       114861 non-null  int64  \n",
      " 25  transfers_balance  114861 non-null  int64  \n",
      " 26  transfers_in       114861 non-null  int64  \n",
      " 27  transfers_out      114861 non-null  int64  \n",
      " 28  value              114861 non-null  int64  \n",
      " 29  was_home           114861 non-null  bool   \n",
      " 30  yellow_cards       114861 non-null  int64  \n",
      " 31  GW                 114861 non-null  int64  \n",
      " 32  season             114861 non-null  int64  \n",
      "dtypes: bool(1), float64(6), int64(24), object(2)\n",
      "memory usage: 29.0+ MB\n"
     ]
    }
   ],
   "source": [
    "#test.info()"
   ]
  }
 ],
 "metadata": {
  "kernelspec": {
   "display_name": "Python 3",
   "language": "python",
   "name": "python3"
  },
  "language_info": {
   "codemirror_mode": {
    "name": "ipython",
    "version": 3
   },
   "file_extension": ".py",
   "mimetype": "text/x-python",
   "name": "python",
   "nbconvert_exporter": "python",
   "pygments_lexer": "ipython3",
   "version": "3.8.6"
  },
  "toc": {
   "base_numbering": 1,
   "nav_menu": {},
   "number_sections": true,
   "sideBar": true,
   "skip_h1_title": false,
   "title_cell": "Table of Contents",
   "title_sidebar": "Contents",
   "toc_cell": false,
   "toc_position": {},
   "toc_section_display": true,
   "toc_window_display": false
  }
 },
 "nbformat": 4,
 "nbformat_minor": 5
}
