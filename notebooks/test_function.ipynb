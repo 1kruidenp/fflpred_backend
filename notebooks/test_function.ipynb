{
 "cells": [
  {
   "cell_type": "code",
   "execution_count": 1,
   "id": "b817e5cf",
   "metadata": {
    "ExecuteTime": {
     "end_time": "2021-06-15T08:51:43.600648Z",
     "start_time": "2021-06-15T08:51:43.572548Z"
    }
   },
   "outputs": [],
   "source": [
    "%load_ext autoreload\n",
    "%autoreload 2"
   ]
  },
  {
   "cell_type": "code",
   "execution_count": 49,
   "id": "25050476",
   "metadata": {
    "ExecuteTime": {
     "end_time": "2021-06-15T09:08:32.573764Z",
     "start_time": "2021-06-15T09:08:32.542820Z"
    }
   },
   "outputs": [],
   "source": [
    "import pandas as pd\n",
    "import numpy as np\n",
    "from fflpred_backend.model import main"
   ]
  },
  {
   "cell_type": "code",
   "execution_count": 8,
   "id": "73377b26",
   "metadata": {
    "ExecuteTime": {
     "end_time": "2021-06-15T08:53:53.055563Z",
     "start_time": "2021-06-15T08:53:53.008686Z"
    }
   },
   "outputs": [
    {
     "name": "stdout",
     "output_type": "stream",
     "text": [
      "/Users/armin/code/1kruidenp/fflpred_backend\n"
     ]
    }
   ],
   "source": [
    "%cd .."
   ]
  },
  {
   "cell_type": "code",
   "execution_count": 9,
   "id": "4ddd1b0f",
   "metadata": {
    "ExecuteTime": {
     "end_time": "2021-06-15T08:53:56.326928Z",
     "start_time": "2021-06-15T08:53:56.152045Z"
    }
   },
   "outputs": [
    {
     "name": "stdout",
     "output_type": "stream",
     "text": [
      "/Users/armin/code/1kruidenp/fflpred_backend\r\n"
     ]
    }
   ],
   "source": [
    "!pwd"
   ]
  },
  {
   "cell_type": "code",
   "execution_count": 139,
   "id": "e4d35cc4",
   "metadata": {
    "ExecuteTime": {
     "end_time": "2021-06-15T09:36:54.869607Z",
     "start_time": "2021-06-15T09:36:54.840349Z"
    }
   },
   "outputs": [],
   "source": [
    "    #prediction = main()\n",
    "    team = pd.DataFrame({\n",
    "        'name': [\n",
    "            'Harry kane',\n",
    "            'Neal maupay',\n",
    "            'heung-min son',\n",
    "            'adam lallana',\n",
    "            'stuart Dallas',\n",
    "            'matt Targett',\n",
    "            'Hugo lloris'\n",
    "        ],\n",
    "        'position': [\n",
    "            'FWD',\n",
    "            'FWD',\n",
    "            'MID',\n",
    "            'MID',\n",
    "            'DEF',\n",
    "            'DEF',\n",
    "            'GK'\n",
    "        ]\n",
    "    })\n",
    "    \n",
    "    budget = 4.2"
   ]
  },
  {
   "cell_type": "code",
   "execution_count": 140,
   "id": "43f2fcff",
   "metadata": {
    "ExecuteTime": {
     "end_time": "2021-06-15T09:36:56.749440Z",
     "start_time": "2021-06-15T09:36:56.719691Z"
    }
   },
   "outputs": [],
   "source": [
    "team_df = team.copy()\n",
    "team_df['name'] = team_df.apply(lambda row: row['name'].lower(), axis = 1)"
   ]
  },
  {
   "cell_type": "code",
   "execution_count": 141,
   "id": "53721ce4",
   "metadata": {
    "ExecuteTime": {
     "end_time": "2021-06-15T09:36:57.060181Z",
     "start_time": "2021-06-15T09:36:57.029257Z"
    }
   },
   "outputs": [
    {
     "data": {
      "text/html": [
       "<div>\n",
       "<style scoped>\n",
       "    .dataframe tbody tr th:only-of-type {\n",
       "        vertical-align: middle;\n",
       "    }\n",
       "\n",
       "    .dataframe tbody tr th {\n",
       "        vertical-align: top;\n",
       "    }\n",
       "\n",
       "    .dataframe thead th {\n",
       "        text-align: right;\n",
       "    }\n",
       "</style>\n",
       "<table border=\"1\" class=\"dataframe\">\n",
       "  <thead>\n",
       "    <tr style=\"text-align: right;\">\n",
       "      <th></th>\n",
       "      <th>name</th>\n",
       "      <th>GW</th>\n",
       "      <th>season</th>\n",
       "      <th>value</th>\n",
       "      <th>predicted_points</th>\n",
       "      <th>position</th>\n",
       "    </tr>\n",
       "  </thead>\n",
       "  <tbody>\n",
       "  </tbody>\n",
       "</table>\n",
       "</div>"
      ],
      "text/plain": [
       "Empty DataFrame\n",
       "Columns: [name, GW, season, value, predicted_points, position]\n",
       "Index: []"
      ]
     },
     "execution_count": 141,
     "metadata": {},
     "output_type": "execute_result"
    }
   ],
   "source": [
    "prediction[prediction['name']=='matt target']"
   ]
  },
  {
   "cell_type": "code",
   "execution_count": 142,
   "id": "5d346563",
   "metadata": {
    "ExecuteTime": {
     "end_time": "2021-06-15T09:36:57.332444Z",
     "start_time": "2021-06-15T09:36:57.301245Z"
    }
   },
   "outputs": [
    {
     "data": {
      "text/html": [
       "<div>\n",
       "<style scoped>\n",
       "    .dataframe tbody tr th:only-of-type {\n",
       "        vertical-align: middle;\n",
       "    }\n",
       "\n",
       "    .dataframe tbody tr th {\n",
       "        vertical-align: top;\n",
       "    }\n",
       "\n",
       "    .dataframe thead th {\n",
       "        text-align: right;\n",
       "    }\n",
       "</style>\n",
       "<table border=\"1\" class=\"dataframe\">\n",
       "  <thead>\n",
       "    <tr style=\"text-align: right;\">\n",
       "      <th></th>\n",
       "      <th>name</th>\n",
       "      <th>position</th>\n",
       "    </tr>\n",
       "  </thead>\n",
       "  <tbody>\n",
       "    <tr>\n",
       "      <th>0</th>\n",
       "      <td>harry kane</td>\n",
       "      <td>FWD</td>\n",
       "    </tr>\n",
       "    <tr>\n",
       "      <th>1</th>\n",
       "      <td>neal maupay</td>\n",
       "      <td>FWD</td>\n",
       "    </tr>\n",
       "    <tr>\n",
       "      <th>2</th>\n",
       "      <td>heung-min son</td>\n",
       "      <td>MID</td>\n",
       "    </tr>\n",
       "    <tr>\n",
       "      <th>3</th>\n",
       "      <td>adam lallana</td>\n",
       "      <td>MID</td>\n",
       "    </tr>\n",
       "    <tr>\n",
       "      <th>4</th>\n",
       "      <td>stuart dallas</td>\n",
       "      <td>DEF</td>\n",
       "    </tr>\n",
       "    <tr>\n",
       "      <th>5</th>\n",
       "      <td>matt targett</td>\n",
       "      <td>DEF</td>\n",
       "    </tr>\n",
       "    <tr>\n",
       "      <th>6</th>\n",
       "      <td>hugo lloris</td>\n",
       "      <td>GK</td>\n",
       "    </tr>\n",
       "  </tbody>\n",
       "</table>\n",
       "</div>"
      ],
      "text/plain": [
       "            name position\n",
       "0     harry kane      FWD\n",
       "1    neal maupay      FWD\n",
       "2  heung-min son      MID\n",
       "3   adam lallana      MID\n",
       "4  stuart dallas      DEF\n",
       "5   matt targett      DEF\n",
       "6    hugo lloris       GK"
      ]
     },
     "execution_count": 142,
     "metadata": {},
     "output_type": "execute_result"
    }
   ],
   "source": [
    "team_df"
   ]
  },
  {
   "cell_type": "code",
   "execution_count": 143,
   "id": "c708d00c",
   "metadata": {
    "ExecuteTime": {
     "end_time": "2021-06-15T09:36:57.924596Z",
     "start_time": "2021-06-15T09:36:57.892580Z"
    },
    "scrolled": true
   },
   "outputs": [],
   "source": [
    "team_df['predicted_points'] = team_df.apply(lambda row: prediction.predicted_points[prediction['name'] == row['name']].item(), axis = 1)"
   ]
  },
  {
   "cell_type": "code",
   "execution_count": 144,
   "id": "9515b506",
   "metadata": {
    "ExecuteTime": {
     "end_time": "2021-06-15T09:36:58.621468Z",
     "start_time": "2021-06-15T09:36:58.589751Z"
    }
   },
   "outputs": [
    {
     "data": {
      "text/html": [
       "<div>\n",
       "<style scoped>\n",
       "    .dataframe tbody tr th:only-of-type {\n",
       "        vertical-align: middle;\n",
       "    }\n",
       "\n",
       "    .dataframe tbody tr th {\n",
       "        vertical-align: top;\n",
       "    }\n",
       "\n",
       "    .dataframe thead th {\n",
       "        text-align: right;\n",
       "    }\n",
       "</style>\n",
       "<table border=\"1\" class=\"dataframe\">\n",
       "  <thead>\n",
       "    <tr style=\"text-align: right;\">\n",
       "      <th></th>\n",
       "      <th>name</th>\n",
       "      <th>position</th>\n",
       "      <th>predicted_points</th>\n",
       "    </tr>\n",
       "  </thead>\n",
       "  <tbody>\n",
       "    <tr>\n",
       "      <th>0</th>\n",
       "      <td>harry kane</td>\n",
       "      <td>FWD</td>\n",
       "      <td>4.431238</td>\n",
       "    </tr>\n",
       "    <tr>\n",
       "      <th>1</th>\n",
       "      <td>neal maupay</td>\n",
       "      <td>FWD</td>\n",
       "      <td>0.665884</td>\n",
       "    </tr>\n",
       "    <tr>\n",
       "      <th>2</th>\n",
       "      <td>heung-min son</td>\n",
       "      <td>MID</td>\n",
       "      <td>4.290511</td>\n",
       "    </tr>\n",
       "    <tr>\n",
       "      <th>3</th>\n",
       "      <td>adam lallana</td>\n",
       "      <td>MID</td>\n",
       "      <td>0.993300</td>\n",
       "    </tr>\n",
       "    <tr>\n",
       "      <th>4</th>\n",
       "      <td>stuart dallas</td>\n",
       "      <td>DEF</td>\n",
       "      <td>4.681366</td>\n",
       "    </tr>\n",
       "    <tr>\n",
       "      <th>5</th>\n",
       "      <td>matt targett</td>\n",
       "      <td>DEF</td>\n",
       "      <td>2.859214</td>\n",
       "    </tr>\n",
       "    <tr>\n",
       "      <th>6</th>\n",
       "      <td>hugo lloris</td>\n",
       "      <td>GK</td>\n",
       "      <td>2.600000</td>\n",
       "    </tr>\n",
       "  </tbody>\n",
       "</table>\n",
       "</div>"
      ],
      "text/plain": [
       "            name position  predicted_points\n",
       "0     harry kane      FWD          4.431238\n",
       "1    neal maupay      FWD          0.665884\n",
       "2  heung-min son      MID          4.290511\n",
       "3   adam lallana      MID          0.993300\n",
       "4  stuart dallas      DEF          4.681366\n",
       "5   matt targett      DEF          2.859214\n",
       "6    hugo lloris       GK          2.600000"
      ]
     },
     "execution_count": 144,
     "metadata": {},
     "output_type": "execute_result"
    }
   ],
   "source": [
    "team_df"
   ]
  },
  {
   "cell_type": "code",
   "execution_count": 150,
   "id": "ee224134",
   "metadata": {
    "ExecuteTime": {
     "end_time": "2021-06-15T09:39:41.113924Z",
     "start_time": "2021-06-15T09:39:41.074906Z"
    }
   },
   "outputs": [],
   "source": [
    "prediction.value = prediction.apply(lambda row: row.value / 10, axis = 1)"
   ]
  },
  {
   "cell_type": "code",
   "execution_count": 151,
   "id": "293d4ef0",
   "metadata": {
    "ExecuteTime": {
     "end_time": "2021-06-15T09:39:55.866838Z",
     "start_time": "2021-06-15T09:39:55.833824Z"
    }
   },
   "outputs": [],
   "source": [
    "team_df['value'] = team_df.apply(lambda row: prediction.value[prediction['name'] == row['name']].item(), axis = 1)\n",
    "\n",
    "team_df['max_budget'] = team_df.apply(lambda row: row.value + budget, axis = 1)"
   ]
  },
  {
   "cell_type": "code",
   "execution_count": 154,
   "id": "65bd9499",
   "metadata": {
    "ExecuteTime": {
     "end_time": "2021-06-15T09:40:10.927216Z",
     "start_time": "2021-06-15T09:40:10.892136Z"
    }
   },
   "outputs": [
    {
     "data": {
      "text/html": [
       "<div>\n",
       "<style scoped>\n",
       "    .dataframe tbody tr th:only-of-type {\n",
       "        vertical-align: middle;\n",
       "    }\n",
       "\n",
       "    .dataframe tbody tr th {\n",
       "        vertical-align: top;\n",
       "    }\n",
       "\n",
       "    .dataframe thead th {\n",
       "        text-align: right;\n",
       "    }\n",
       "</style>\n",
       "<table border=\"1\" class=\"dataframe\">\n",
       "  <thead>\n",
       "    <tr style=\"text-align: right;\">\n",
       "      <th></th>\n",
       "      <th>name</th>\n",
       "      <th>GW</th>\n",
       "      <th>season</th>\n",
       "      <th>value</th>\n",
       "      <th>predicted_points</th>\n",
       "      <th>position</th>\n",
       "    </tr>\n",
       "  </thead>\n",
       "  <tbody>\n",
       "    <tr>\n",
       "      <th>0</th>\n",
       "      <td>aaron connolly</td>\n",
       "      <td>38</td>\n",
       "      <td>21</td>\n",
       "      <td>5.2</td>\n",
       "      <td>0.165342</td>\n",
       "      <td>FWD</td>\n",
       "    </tr>\n",
       "    <tr>\n",
       "      <th>1</th>\n",
       "      <td>ademipo odubeko</td>\n",
       "      <td>38</td>\n",
       "      <td>21</td>\n",
       "      <td>4.5</td>\n",
       "      <td>0.120287</td>\n",
       "      <td>FWD</td>\n",
       "    </tr>\n",
       "    <tr>\n",
       "      <th>2</th>\n",
       "      <td>albian ajeti</td>\n",
       "      <td>38</td>\n",
       "      <td>21</td>\n",
       "      <td>5.5</td>\n",
       "      <td>0.120287</td>\n",
       "      <td>FWD</td>\n",
       "    </tr>\n",
       "    <tr>\n",
       "      <th>3</th>\n",
       "      <td>aleksandar mitrović</td>\n",
       "      <td>38</td>\n",
       "      <td>21</td>\n",
       "      <td>5.5</td>\n",
       "      <td>0.643287</td>\n",
       "      <td>FWD</td>\n",
       "    </tr>\n",
       "    <tr>\n",
       "      <th>4</th>\n",
       "      <td>alexandre lacazette</td>\n",
       "      <td>38</td>\n",
       "      <td>21</td>\n",
       "      <td>8.4</td>\n",
       "      <td>1.506591</td>\n",
       "      <td>FWD</td>\n",
       "    </tr>\n",
       "  </tbody>\n",
       "</table>\n",
       "</div>"
      ],
      "text/plain": [
       "                  name  GW  season  value  predicted_points position\n",
       "0       aaron connolly  38      21    5.2          0.165342      FWD\n",
       "1      ademipo odubeko  38      21    4.5          0.120287      FWD\n",
       "2         albian ajeti  38      21    5.5          0.120287      FWD\n",
       "3  aleksandar mitrović  38      21    5.5          0.643287      FWD\n",
       "4  alexandre lacazette  38      21    8.4          1.506591      FWD"
      ]
     },
     "execution_count": 154,
     "metadata": {},
     "output_type": "execute_result"
    }
   ],
   "source": [
    "prediction.head()"
   ]
  },
  {
   "cell_type": "code",
   "execution_count": 152,
   "id": "c8dff3f0",
   "metadata": {
    "ExecuteTime": {
     "end_time": "2021-06-15T09:39:56.503212Z",
     "start_time": "2021-06-15T09:39:56.467948Z"
    }
   },
   "outputs": [
    {
     "data": {
      "text/html": [
       "<div>\n",
       "<style scoped>\n",
       "    .dataframe tbody tr th:only-of-type {\n",
       "        vertical-align: middle;\n",
       "    }\n",
       "\n",
       "    .dataframe tbody tr th {\n",
       "        vertical-align: top;\n",
       "    }\n",
       "\n",
       "    .dataframe thead th {\n",
       "        text-align: right;\n",
       "    }\n",
       "</style>\n",
       "<table border=\"1\" class=\"dataframe\">\n",
       "  <thead>\n",
       "    <tr style=\"text-align: right;\">\n",
       "      <th></th>\n",
       "      <th>name</th>\n",
       "      <th>position</th>\n",
       "      <th>predicted_points</th>\n",
       "      <th>value</th>\n",
       "      <th>max_budget</th>\n",
       "    </tr>\n",
       "  </thead>\n",
       "  <tbody>\n",
       "    <tr>\n",
       "      <th>0</th>\n",
       "      <td>harry kane</td>\n",
       "      <td>FWD</td>\n",
       "      <td>4.431238</td>\n",
       "      <td>11.9</td>\n",
       "      <td>16.1</td>\n",
       "    </tr>\n",
       "    <tr>\n",
       "      <th>1</th>\n",
       "      <td>neal maupay</td>\n",
       "      <td>FWD</td>\n",
       "      <td>0.665884</td>\n",
       "      <td>5.8</td>\n",
       "      <td>10.0</td>\n",
       "    </tr>\n",
       "    <tr>\n",
       "      <th>2</th>\n",
       "      <td>heung-min son</td>\n",
       "      <td>MID</td>\n",
       "      <td>4.290511</td>\n",
       "      <td>9.6</td>\n",
       "      <td>13.8</td>\n",
       "    </tr>\n",
       "    <tr>\n",
       "      <th>3</th>\n",
       "      <td>adam lallana</td>\n",
       "      <td>MID</td>\n",
       "      <td>0.993300</td>\n",
       "      <td>6.2</td>\n",
       "      <td>10.4</td>\n",
       "    </tr>\n",
       "    <tr>\n",
       "      <th>4</th>\n",
       "      <td>stuart dallas</td>\n",
       "      <td>DEF</td>\n",
       "      <td>4.681366</td>\n",
       "      <td>5.5</td>\n",
       "      <td>9.7</td>\n",
       "    </tr>\n",
       "    <tr>\n",
       "      <th>5</th>\n",
       "      <td>matt targett</td>\n",
       "      <td>DEF</td>\n",
       "      <td>2.859214</td>\n",
       "      <td>5.0</td>\n",
       "      <td>9.2</td>\n",
       "    </tr>\n",
       "    <tr>\n",
       "      <th>6</th>\n",
       "      <td>hugo lloris</td>\n",
       "      <td>GK</td>\n",
       "      <td>2.600000</td>\n",
       "      <td>5.6</td>\n",
       "      <td>9.8</td>\n",
       "    </tr>\n",
       "  </tbody>\n",
       "</table>\n",
       "</div>"
      ],
      "text/plain": [
       "            name position  predicted_points  value  max_budget\n",
       "0     harry kane      FWD          4.431238   11.9        16.1\n",
       "1    neal maupay      FWD          0.665884    5.8        10.0\n",
       "2  heung-min son      MID          4.290511    9.6        13.8\n",
       "3   adam lallana      MID          0.993300    6.2        10.4\n",
       "4  stuart dallas      DEF          4.681366    5.5         9.7\n",
       "5   matt targett      DEF          2.859214    5.0         9.2\n",
       "6    hugo lloris       GK          2.600000    5.6         9.8"
      ]
     },
     "execution_count": 152,
     "metadata": {},
     "output_type": "execute_result"
    }
   ],
   "source": [
    "team_df"
   ]
  },
  {
   "cell_type": "code",
   "execution_count": 91,
   "id": "af79348f",
   "metadata": {
    "ExecuteTime": {
     "end_time": "2021-06-15T09:21:07.247231Z",
     "start_time": "2021-06-15T09:21:07.218796Z"
    }
   },
   "outputs": [],
   "source": [
    "assert (team_df['name'].isin(prediction['name'])).all(), \"Not all team players in prediction dataset\""
   ]
  },
  {
   "cell_type": "code",
   "execution_count": 133,
   "id": "a616630a",
   "metadata": {
    "ExecuteTime": {
     "end_time": "2021-06-15T09:31:47.959497Z",
     "start_time": "2021-06-15T09:31:47.930191Z"
    }
   },
   "outputs": [],
   "source": [
    "drop_duplicates = prediction[prediction['name'].duplicated()].index\n",
    "prediction.drop(index = drop_duplicates, inplace = True)"
   ]
  },
  {
   "cell_type": "code",
   "execution_count": 176,
   "id": "96f6d278",
   "metadata": {
    "ExecuteTime": {
     "end_time": "2021-06-15T09:50:06.826554Z",
     "start_time": "2021-06-15T09:50:06.800037Z"
    }
   },
   "outputs": [],
   "source": [
    "# TODO: sort prediction by predicted score\n",
    "sorted_prediction = prediction.sort_values(by = 'predicted_points', ascending = False)\n",
    "drop_team = sorted_prediction[sorted_prediction['name'].isin(team_df['name'].values)].index\n",
    "sorted_prediction.drop(index = drop_team, inplace = True)\n",
    "sorted_prediction.reset_index(drop=True, inplace = True)"
   ]
  },
  {
   "cell_type": "code",
   "execution_count": 177,
   "id": "01c11e7a",
   "metadata": {
    "ExecuteTime": {
     "end_time": "2021-06-15T09:50:08.562155Z",
     "start_time": "2021-06-15T09:50:08.521399Z"
    }
   },
   "outputs": [
    {
     "data": {
      "text/html": [
       "<div>\n",
       "<style scoped>\n",
       "    .dataframe tbody tr th:only-of-type {\n",
       "        vertical-align: middle;\n",
       "    }\n",
       "\n",
       "    .dataframe tbody tr th {\n",
       "        vertical-align: top;\n",
       "    }\n",
       "\n",
       "    .dataframe thead th {\n",
       "        text-align: right;\n",
       "    }\n",
       "</style>\n",
       "<table border=\"1\" class=\"dataframe\">\n",
       "  <thead>\n",
       "    <tr style=\"text-align: right;\">\n",
       "      <th></th>\n",
       "      <th>name</th>\n",
       "      <th>GW</th>\n",
       "      <th>season</th>\n",
       "      <th>value</th>\n",
       "      <th>predicted_points</th>\n",
       "      <th>position</th>\n",
       "    </tr>\n",
       "  </thead>\n",
       "  <tbody>\n",
       "    <tr>\n",
       "      <th>0</th>\n",
       "      <td>edinson cavani</td>\n",
       "      <td>38</td>\n",
       "      <td>21</td>\n",
       "      <td>8.0</td>\n",
       "      <td>7.075790</td>\n",
       "      <td>FWD</td>\n",
       "    </tr>\n",
       "    <tr>\n",
       "      <th>1</th>\n",
       "      <td>mohamed salah</td>\n",
       "      <td>38</td>\n",
       "      <td>21</td>\n",
       "      <td>12.9</td>\n",
       "      <td>6.516900</td>\n",
       "      <td>MID</td>\n",
       "    </tr>\n",
       "    <tr>\n",
       "      <th>2</th>\n",
       "      <td>vicente guaita</td>\n",
       "      <td>38</td>\n",
       "      <td>21</td>\n",
       "      <td>4.8</td>\n",
       "      <td>5.400000</td>\n",
       "      <td>GK</td>\n",
       "    </tr>\n",
       "    <tr>\n",
       "      <th>3</th>\n",
       "      <td>james ward-prowse</td>\n",
       "      <td>38</td>\n",
       "      <td>21</td>\n",
       "      <td>5.9</td>\n",
       "      <td>5.235958</td>\n",
       "      <td>MID</td>\n",
       "    </tr>\n",
       "    <tr>\n",
       "      <th>4</th>\n",
       "      <td>aaron ramsdale</td>\n",
       "      <td>38</td>\n",
       "      <td>21</td>\n",
       "      <td>4.6</td>\n",
       "      <td>5.000000</td>\n",
       "      <td>GK</td>\n",
       "    </tr>\n",
       "    <tr>\n",
       "      <th>...</th>\n",
       "      <td>...</td>\n",
       "      <td>...</td>\n",
       "      <td>...</td>\n",
       "      <td>...</td>\n",
       "      <td>...</td>\n",
       "      <td>...</td>\n",
       "    </tr>\n",
       "    <tr>\n",
       "      <th>690</th>\n",
       "      <td>niels nkounkou</td>\n",
       "      <td>38</td>\n",
       "      <td>21</td>\n",
       "      <td>4.0</td>\n",
       "      <td>-0.021618</td>\n",
       "      <td>DEF</td>\n",
       "    </tr>\n",
       "    <tr>\n",
       "      <th>691</th>\n",
       "      <td>jonjoe kenny</td>\n",
       "      <td>38</td>\n",
       "      <td>21</td>\n",
       "      <td>4.3</td>\n",
       "      <td>-0.035871</td>\n",
       "      <td>DEF</td>\n",
       "    </tr>\n",
       "    <tr>\n",
       "      <th>692</th>\n",
       "      <td>reece welch</td>\n",
       "      <td>38</td>\n",
       "      <td>21</td>\n",
       "      <td>4.0</td>\n",
       "      <td>-0.035871</td>\n",
       "      <td>DEF</td>\n",
       "    </tr>\n",
       "    <tr>\n",
       "      <th>693</th>\n",
       "      <td>kyle john</td>\n",
       "      <td>38</td>\n",
       "      <td>21</td>\n",
       "      <td>4.0</td>\n",
       "      <td>-0.035871</td>\n",
       "      <td>DEF</td>\n",
       "    </tr>\n",
       "    <tr>\n",
       "      <th>694</th>\n",
       "      <td>ryan astley</td>\n",
       "      <td>38</td>\n",
       "      <td>21</td>\n",
       "      <td>4.0</td>\n",
       "      <td>-0.035871</td>\n",
       "      <td>DEF</td>\n",
       "    </tr>\n",
       "  </tbody>\n",
       "</table>\n",
       "<p>695 rows × 6 columns</p>\n",
       "</div>"
      ],
      "text/plain": [
       "                  name  GW  season  value  predicted_points position\n",
       "0       edinson cavani  38      21    8.0          7.075790      FWD\n",
       "1        mohamed salah  38      21   12.9          6.516900      MID\n",
       "2       vicente guaita  38      21    4.8          5.400000       GK\n",
       "3    james ward-prowse  38      21    5.9          5.235958      MID\n",
       "4       aaron ramsdale  38      21    4.6          5.000000       GK\n",
       "..                 ...  ..     ...    ...               ...      ...\n",
       "690     niels nkounkou  38      21    4.0         -0.021618      DEF\n",
       "691       jonjoe kenny  38      21    4.3         -0.035871      DEF\n",
       "692        reece welch  38      21    4.0         -0.035871      DEF\n",
       "693          kyle john  38      21    4.0         -0.035871      DEF\n",
       "694        ryan astley  38      21    4.0         -0.035871      DEF\n",
       "\n",
       "[695 rows x 6 columns]"
      ]
     },
     "execution_count": 177,
     "metadata": {},
     "output_type": "execute_result"
    }
   ],
   "source": [
    "sorted_prediction"
   ]
  },
  {
   "cell_type": "code",
   "execution_count": 204,
   "id": "ab6f8a98",
   "metadata": {
    "ExecuteTime": {
     "end_time": "2021-06-15T09:55:14.564335Z",
     "start_time": "2021-06-15T09:55:14.474621Z"
    }
   },
   "outputs": [],
   "source": [
    "# TODO: calculate best affordable transfer for each player\n",
    "team_df['incoming_player'] = 'no transfer'\n",
    "team_df['incoming_points'] = 0\n",
    "team_df['remaining_budget'] = team_df.max_budget\n",
    "\n",
    "for team_index, team_row in team_df.iterrows():\n",
    "    for predict_index, predict_row in sorted_prediction.iterrows():\n",
    "        if team_row.position == predict_row.position\\\n",
    "            and team_row.predicted_points < predict_row.predicted_points\\\n",
    "            and team_row.max_budget > predict_row.value:\n",
    "            team_df.loc[team_index, 'incoming_player'] = predict_row['name']\n",
    "            team_df.loc[team_index, 'incoming_points'] = predict_row.predicted_points\n",
    "            team_df.loc[team_index, 'remaining_budget'] = team_row.max_budget - predict_row.value\n",
    "            break\n",
    "\n",
    "team_df['points_difference'] = team_df.incoming_points - team_df.predicted_points\n",
    "\n"
   ]
  },
  {
   "cell_type": "code",
   "execution_count": 205,
   "id": "fb787071",
   "metadata": {
    "ExecuteTime": {
     "end_time": "2021-06-15T09:55:14.771084Z",
     "start_time": "2021-06-15T09:55:14.733298Z"
    },
    "scrolled": true
   },
   "outputs": [
    {
     "data": {
      "text/html": [
       "<div>\n",
       "<style scoped>\n",
       "    .dataframe tbody tr th:only-of-type {\n",
       "        vertical-align: middle;\n",
       "    }\n",
       "\n",
       "    .dataframe tbody tr th {\n",
       "        vertical-align: top;\n",
       "    }\n",
       "\n",
       "    .dataframe thead th {\n",
       "        text-align: right;\n",
       "    }\n",
       "</style>\n",
       "<table border=\"1\" class=\"dataframe\">\n",
       "  <thead>\n",
       "    <tr style=\"text-align: right;\">\n",
       "      <th></th>\n",
       "      <th>name</th>\n",
       "      <th>position</th>\n",
       "      <th>predicted_points</th>\n",
       "      <th>value</th>\n",
       "      <th>max_budget</th>\n",
       "      <th>incoming</th>\n",
       "      <th>incoming_points</th>\n",
       "      <th>remaining_budget</th>\n",
       "      <th>points_difference</th>\n",
       "      <th>incoming_player</th>\n",
       "    </tr>\n",
       "  </thead>\n",
       "  <tbody>\n",
       "    <tr>\n",
       "      <th>0</th>\n",
       "      <td>harry kane</td>\n",
       "      <td>FWD</td>\n",
       "      <td>4.431238</td>\n",
       "      <td>11.9</td>\n",
       "      <td>16.1</td>\n",
       "      <td>no transfer</td>\n",
       "      <td>7.075790</td>\n",
       "      <td>8.1</td>\n",
       "      <td>2.644551</td>\n",
       "      <td>edinson cavani</td>\n",
       "    </tr>\n",
       "    <tr>\n",
       "      <th>1</th>\n",
       "      <td>neal maupay</td>\n",
       "      <td>FWD</td>\n",
       "      <td>0.665884</td>\n",
       "      <td>5.8</td>\n",
       "      <td>10.0</td>\n",
       "      <td>no transfer</td>\n",
       "      <td>7.075790</td>\n",
       "      <td>2.0</td>\n",
       "      <td>6.409905</td>\n",
       "      <td>edinson cavani</td>\n",
       "    </tr>\n",
       "    <tr>\n",
       "      <th>2</th>\n",
       "      <td>heung-min son</td>\n",
       "      <td>MID</td>\n",
       "      <td>4.290511</td>\n",
       "      <td>9.6</td>\n",
       "      <td>13.8</td>\n",
       "      <td>no transfer</td>\n",
       "      <td>6.516900</td>\n",
       "      <td>0.9</td>\n",
       "      <td>2.226388</td>\n",
       "      <td>mohamed salah</td>\n",
       "    </tr>\n",
       "    <tr>\n",
       "      <th>3</th>\n",
       "      <td>adam lallana</td>\n",
       "      <td>MID</td>\n",
       "      <td>0.993300</td>\n",
       "      <td>6.2</td>\n",
       "      <td>10.4</td>\n",
       "      <td>no transfer</td>\n",
       "      <td>5.235958</td>\n",
       "      <td>4.5</td>\n",
       "      <td>4.242659</td>\n",
       "      <td>james ward-prowse</td>\n",
       "    </tr>\n",
       "    <tr>\n",
       "      <th>4</th>\n",
       "      <td>stuart dallas</td>\n",
       "      <td>DEF</td>\n",
       "      <td>4.681366</td>\n",
       "      <td>5.5</td>\n",
       "      <td>9.7</td>\n",
       "      <td>no transfer</td>\n",
       "      <td>0.000000</td>\n",
       "      <td>9.7</td>\n",
       "      <td>-4.681366</td>\n",
       "      <td>no transfer</td>\n",
       "    </tr>\n",
       "    <tr>\n",
       "      <th>5</th>\n",
       "      <td>matt targett</td>\n",
       "      <td>DEF</td>\n",
       "      <td>2.859214</td>\n",
       "      <td>5.0</td>\n",
       "      <td>9.2</td>\n",
       "      <td>no transfer</td>\n",
       "      <td>4.234607</td>\n",
       "      <td>3.5</td>\n",
       "      <td>1.375394</td>\n",
       "      <td>aaron cresswell</td>\n",
       "    </tr>\n",
       "    <tr>\n",
       "      <th>6</th>\n",
       "      <td>hugo lloris</td>\n",
       "      <td>GK</td>\n",
       "      <td>2.600000</td>\n",
       "      <td>5.6</td>\n",
       "      <td>9.8</td>\n",
       "      <td>no transfer</td>\n",
       "      <td>5.400000</td>\n",
       "      <td>5.0</td>\n",
       "      <td>2.800000</td>\n",
       "      <td>vicente guaita</td>\n",
       "    </tr>\n",
       "  </tbody>\n",
       "</table>\n",
       "</div>"
      ],
      "text/plain": [
       "            name position  predicted_points  value  max_budget     incoming  \\\n",
       "0     harry kane      FWD          4.431238   11.9        16.1  no transfer   \n",
       "1    neal maupay      FWD          0.665884    5.8        10.0  no transfer   \n",
       "2  heung-min son      MID          4.290511    9.6        13.8  no transfer   \n",
       "3   adam lallana      MID          0.993300    6.2        10.4  no transfer   \n",
       "4  stuart dallas      DEF          4.681366    5.5         9.7  no transfer   \n",
       "5   matt targett      DEF          2.859214    5.0         9.2  no transfer   \n",
       "6    hugo lloris       GK          2.600000    5.6         9.8  no transfer   \n",
       "\n",
       "   incoming_points  remaining_budget  points_difference    incoming_player  \n",
       "0         7.075790               8.1           2.644551     edinson cavani  \n",
       "1         7.075790               2.0           6.409905     edinson cavani  \n",
       "2         6.516900               0.9           2.226388      mohamed salah  \n",
       "3         5.235958               4.5           4.242659  james ward-prowse  \n",
       "4         0.000000               9.7          -4.681366        no transfer  \n",
       "5         4.234607               3.5           1.375394    aaron cresswell  \n",
       "6         5.400000               5.0           2.800000     vicente guaita  "
      ]
     },
     "execution_count": 205,
     "metadata": {},
     "output_type": "execute_result"
    }
   ],
   "source": [
    "team_df"
   ]
  },
  {
   "cell_type": "code",
   "execution_count": 206,
   "id": "b030bcaa",
   "metadata": {
    "ExecuteTime": {
     "end_time": "2021-06-15T09:55:14.902388Z",
     "start_time": "2021-06-15T09:55:14.878158Z"
    }
   },
   "outputs": [
    {
     "data": {
      "text/html": [
       "<div>\n",
       "<style scoped>\n",
       "    .dataframe tbody tr th:only-of-type {\n",
       "        vertical-align: middle;\n",
       "    }\n",
       "\n",
       "    .dataframe tbody tr th {\n",
       "        vertical-align: top;\n",
       "    }\n",
       "\n",
       "    .dataframe thead th {\n",
       "        text-align: right;\n",
       "    }\n",
       "</style>\n",
       "<table border=\"1\" class=\"dataframe\">\n",
       "  <thead>\n",
       "    <tr style=\"text-align: right;\">\n",
       "      <th></th>\n",
       "      <th>name</th>\n",
       "      <th>GW</th>\n",
       "      <th>season</th>\n",
       "      <th>value</th>\n",
       "      <th>predicted_points</th>\n",
       "      <th>position</th>\n",
       "    </tr>\n",
       "  </thead>\n",
       "  <tbody>\n",
       "  </tbody>\n",
       "</table>\n",
       "</div>"
      ],
      "text/plain": [
       "Empty DataFrame\n",
       "Columns: [name, GW, season, value, predicted_points, position]\n",
       "Index: []"
      ]
     },
     "execution_count": 206,
     "metadata": {},
     "output_type": "execute_result"
    }
   ],
   "source": [
    "sorted_prediction[sorted_prediction['name'].isin(team_df['incoming'])]"
   ]
  },
  {
   "cell_type": "code",
   "execution_count": 207,
   "id": "3e78d2cc",
   "metadata": {
    "ExecuteTime": {
     "end_time": "2021-06-15T09:55:15.080384Z",
     "start_time": "2021-06-15T09:55:15.054758Z"
    }
   },
   "outputs": [],
   "source": [
    "# TODO: add top 3 transfers to a list with outgoing player, incoming player & potential points increase\n",
    "best_transfers = team_df.sort_values(by = 'points_difference', ascending = False)[['name', 'incoming_player', 'position', 'points_difference', 'remaining_budget']].head(3).reset_index(drop=True)\n"
   ]
  },
  {
   "cell_type": "code",
   "execution_count": 208,
   "id": "7e8782e0",
   "metadata": {
    "ExecuteTime": {
     "end_time": "2021-06-15T09:55:15.435271Z",
     "start_time": "2021-06-15T09:55:15.396142Z"
    }
   },
   "outputs": [
    {
     "data": {
      "text/html": [
       "<div>\n",
       "<style scoped>\n",
       "    .dataframe tbody tr th:only-of-type {\n",
       "        vertical-align: middle;\n",
       "    }\n",
       "\n",
       "    .dataframe tbody tr th {\n",
       "        vertical-align: top;\n",
       "    }\n",
       "\n",
       "    .dataframe thead th {\n",
       "        text-align: right;\n",
       "    }\n",
       "</style>\n",
       "<table border=\"1\" class=\"dataframe\">\n",
       "  <thead>\n",
       "    <tr style=\"text-align: right;\">\n",
       "      <th></th>\n",
       "      <th>name</th>\n",
       "      <th>position</th>\n",
       "      <th>predicted_points</th>\n",
       "      <th>value</th>\n",
       "      <th>max_budget</th>\n",
       "      <th>incoming</th>\n",
       "      <th>incoming_points</th>\n",
       "      <th>remaining_budget</th>\n",
       "      <th>points_difference</th>\n",
       "      <th>incoming_player</th>\n",
       "    </tr>\n",
       "  </thead>\n",
       "  <tbody>\n",
       "    <tr>\n",
       "      <th>0</th>\n",
       "      <td>harry kane</td>\n",
       "      <td>FWD</td>\n",
       "      <td>4.431238</td>\n",
       "      <td>11.9</td>\n",
       "      <td>16.1</td>\n",
       "      <td>no transfer</td>\n",
       "      <td>7.075790</td>\n",
       "      <td>8.1</td>\n",
       "      <td>2.644551</td>\n",
       "      <td>edinson cavani</td>\n",
       "    </tr>\n",
       "    <tr>\n",
       "      <th>1</th>\n",
       "      <td>neal maupay</td>\n",
       "      <td>FWD</td>\n",
       "      <td>0.665884</td>\n",
       "      <td>5.8</td>\n",
       "      <td>10.0</td>\n",
       "      <td>no transfer</td>\n",
       "      <td>7.075790</td>\n",
       "      <td>2.0</td>\n",
       "      <td>6.409905</td>\n",
       "      <td>edinson cavani</td>\n",
       "    </tr>\n",
       "    <tr>\n",
       "      <th>2</th>\n",
       "      <td>heung-min son</td>\n",
       "      <td>MID</td>\n",
       "      <td>4.290511</td>\n",
       "      <td>9.6</td>\n",
       "      <td>13.8</td>\n",
       "      <td>no transfer</td>\n",
       "      <td>6.516900</td>\n",
       "      <td>0.9</td>\n",
       "      <td>2.226388</td>\n",
       "      <td>mohamed salah</td>\n",
       "    </tr>\n",
       "    <tr>\n",
       "      <th>3</th>\n",
       "      <td>adam lallana</td>\n",
       "      <td>MID</td>\n",
       "      <td>0.993300</td>\n",
       "      <td>6.2</td>\n",
       "      <td>10.4</td>\n",
       "      <td>no transfer</td>\n",
       "      <td>5.235958</td>\n",
       "      <td>4.5</td>\n",
       "      <td>4.242659</td>\n",
       "      <td>james ward-prowse</td>\n",
       "    </tr>\n",
       "    <tr>\n",
       "      <th>4</th>\n",
       "      <td>stuart dallas</td>\n",
       "      <td>DEF</td>\n",
       "      <td>4.681366</td>\n",
       "      <td>5.5</td>\n",
       "      <td>9.7</td>\n",
       "      <td>no transfer</td>\n",
       "      <td>0.000000</td>\n",
       "      <td>9.7</td>\n",
       "      <td>-4.681366</td>\n",
       "      <td>no transfer</td>\n",
       "    </tr>\n",
       "    <tr>\n",
       "      <th>5</th>\n",
       "      <td>matt targett</td>\n",
       "      <td>DEF</td>\n",
       "      <td>2.859214</td>\n",
       "      <td>5.0</td>\n",
       "      <td>9.2</td>\n",
       "      <td>no transfer</td>\n",
       "      <td>4.234607</td>\n",
       "      <td>3.5</td>\n",
       "      <td>1.375394</td>\n",
       "      <td>aaron cresswell</td>\n",
       "    </tr>\n",
       "    <tr>\n",
       "      <th>6</th>\n",
       "      <td>hugo lloris</td>\n",
       "      <td>GK</td>\n",
       "      <td>2.600000</td>\n",
       "      <td>5.6</td>\n",
       "      <td>9.8</td>\n",
       "      <td>no transfer</td>\n",
       "      <td>5.400000</td>\n",
       "      <td>5.0</td>\n",
       "      <td>2.800000</td>\n",
       "      <td>vicente guaita</td>\n",
       "    </tr>\n",
       "  </tbody>\n",
       "</table>\n",
       "</div>"
      ],
      "text/plain": [
       "            name position  predicted_points  value  max_budget     incoming  \\\n",
       "0     harry kane      FWD          4.431238   11.9        16.1  no transfer   \n",
       "1    neal maupay      FWD          0.665884    5.8        10.0  no transfer   \n",
       "2  heung-min son      MID          4.290511    9.6        13.8  no transfer   \n",
       "3   adam lallana      MID          0.993300    6.2        10.4  no transfer   \n",
       "4  stuart dallas      DEF          4.681366    5.5         9.7  no transfer   \n",
       "5   matt targett      DEF          2.859214    5.0         9.2  no transfer   \n",
       "6    hugo lloris       GK          2.600000    5.6         9.8  no transfer   \n",
       "\n",
       "   incoming_points  remaining_budget  points_difference    incoming_player  \n",
       "0         7.075790               8.1           2.644551     edinson cavani  \n",
       "1         7.075790               2.0           6.409905     edinson cavani  \n",
       "2         6.516900               0.9           2.226388      mohamed salah  \n",
       "3         5.235958               4.5           4.242659  james ward-prowse  \n",
       "4         0.000000               9.7          -4.681366        no transfer  \n",
       "5         4.234607               3.5           1.375394    aaron cresswell  \n",
       "6         5.400000               5.0           2.800000     vicente guaita  "
      ]
     },
     "execution_count": 208,
     "metadata": {},
     "output_type": "execute_result"
    }
   ],
   "source": [
    "team_df"
   ]
  },
  {
   "cell_type": "code",
   "execution_count": 209,
   "id": "202a64c9",
   "metadata": {
    "ExecuteTime": {
     "end_time": "2021-06-15T09:55:15.609307Z",
     "start_time": "2021-06-15T09:55:15.574940Z"
    },
    "scrolled": true
   },
   "outputs": [
    {
     "data": {
      "text/html": [
       "<div>\n",
       "<style scoped>\n",
       "    .dataframe tbody tr th:only-of-type {\n",
       "        vertical-align: middle;\n",
       "    }\n",
       "\n",
       "    .dataframe tbody tr th {\n",
       "        vertical-align: top;\n",
       "    }\n",
       "\n",
       "    .dataframe thead th {\n",
       "        text-align: right;\n",
       "    }\n",
       "</style>\n",
       "<table border=\"1\" class=\"dataframe\">\n",
       "  <thead>\n",
       "    <tr style=\"text-align: right;\">\n",
       "      <th></th>\n",
       "      <th>name</th>\n",
       "      <th>GW</th>\n",
       "      <th>season</th>\n",
       "      <th>value</th>\n",
       "      <th>predicted_points</th>\n",
       "      <th>position</th>\n",
       "    </tr>\n",
       "  </thead>\n",
       "  <tbody>\n",
       "    <tr>\n",
       "      <th>2</th>\n",
       "      <td>vicente guaita</td>\n",
       "      <td>38</td>\n",
       "      <td>21</td>\n",
       "      <td>4.8</td>\n",
       "      <td>5.4</td>\n",
       "      <td>GK</td>\n",
       "    </tr>\n",
       "    <tr>\n",
       "      <th>4</th>\n",
       "      <td>aaron ramsdale</td>\n",
       "      <td>38</td>\n",
       "      <td>21</td>\n",
       "      <td>4.6</td>\n",
       "      <td>5.0</td>\n",
       "      <td>GK</td>\n",
       "    </tr>\n",
       "    <tr>\n",
       "      <th>5</th>\n",
       "      <td>bernd leno</td>\n",
       "      <td>38</td>\n",
       "      <td>21</td>\n",
       "      <td>5.0</td>\n",
       "      <td>5.0</td>\n",
       "      <td>GK</td>\n",
       "    </tr>\n",
       "    <tr>\n",
       "      <th>6</th>\n",
       "      <td>john ruddy</td>\n",
       "      <td>38</td>\n",
       "      <td>21</td>\n",
       "      <td>4.3</td>\n",
       "      <td>5.0</td>\n",
       "      <td>GK</td>\n",
       "    </tr>\n",
       "    <tr>\n",
       "      <th>7</th>\n",
       "      <td>kasper schmeichel</td>\n",
       "      <td>38</td>\n",
       "      <td>21</td>\n",
       "      <td>5.4</td>\n",
       "      <td>5.0</td>\n",
       "      <td>GK</td>\n",
       "    </tr>\n",
       "    <tr>\n",
       "      <th>...</th>\n",
       "      <td>...</td>\n",
       "      <td>...</td>\n",
       "      <td>...</td>\n",
       "      <td>...</td>\n",
       "      <td>...</td>\n",
       "      <td>...</td>\n",
       "    </tr>\n",
       "    <tr>\n",
       "      <th>680</th>\n",
       "      <td>joe hart</td>\n",
       "      <td>38</td>\n",
       "      <td>21</td>\n",
       "      <td>4.2</td>\n",
       "      <td>0.0</td>\n",
       "      <td>GK</td>\n",
       "    </tr>\n",
       "    <tr>\n",
       "      <th>681</th>\n",
       "      <td>andreas söndergaard</td>\n",
       "      <td>38</td>\n",
       "      <td>21</td>\n",
       "      <td>4.0</td>\n",
       "      <td>0.0</td>\n",
       "      <td>GK</td>\n",
       "    </tr>\n",
       "    <tr>\n",
       "      <th>682</th>\n",
       "      <td>adrián san miguel del castillo</td>\n",
       "      <td>38</td>\n",
       "      <td>21</td>\n",
       "      <td>4.2</td>\n",
       "      <td>0.0</td>\n",
       "      <td>GK</td>\n",
       "    </tr>\n",
       "    <tr>\n",
       "      <th>683</th>\n",
       "      <td>karl darlow</td>\n",
       "      <td>38</td>\n",
       "      <td>21</td>\n",
       "      <td>4.9</td>\n",
       "      <td>0.0</td>\n",
       "      <td>GK</td>\n",
       "    </tr>\n",
       "    <tr>\n",
       "      <th>684</th>\n",
       "      <td>andy lonergan</td>\n",
       "      <td>38</td>\n",
       "      <td>21</td>\n",
       "      <td>4.0</td>\n",
       "      <td>0.0</td>\n",
       "      <td>GK</td>\n",
       "    </tr>\n",
       "  </tbody>\n",
       "</table>\n",
       "<p>79 rows × 6 columns</p>\n",
       "</div>"
      ],
      "text/plain": [
       "                               name  GW  season  value  predicted_points  \\\n",
       "2                    vicente guaita  38      21    4.8               5.4   \n",
       "4                    aaron ramsdale  38      21    4.6               5.0   \n",
       "5                        bernd leno  38      21    5.0               5.0   \n",
       "6                        john ruddy  38      21    4.3               5.0   \n",
       "7                 kasper schmeichel  38      21    5.4               5.0   \n",
       "..                              ...  ..     ...    ...               ...   \n",
       "680                        joe hart  38      21    4.2               0.0   \n",
       "681             andreas söndergaard  38      21    4.0               0.0   \n",
       "682  adrián san miguel del castillo  38      21    4.2               0.0   \n",
       "683                     karl darlow  38      21    4.9               0.0   \n",
       "684                   andy lonergan  38      21    4.0               0.0   \n",
       "\n",
       "    position  \n",
       "2         GK  \n",
       "4         GK  \n",
       "5         GK  \n",
       "6         GK  \n",
       "7         GK  \n",
       "..       ...  \n",
       "680       GK  \n",
       "681       GK  \n",
       "682       GK  \n",
       "683       GK  \n",
       "684       GK  \n",
       "\n",
       "[79 rows x 6 columns]"
      ]
     },
     "execution_count": 209,
     "metadata": {},
     "output_type": "execute_result"
    }
   ],
   "source": [
    "sorted_prediction[sorted_prediction['position']=='GK']"
   ]
  },
  {
   "cell_type": "code",
   "execution_count": 210,
   "id": "608b780b",
   "metadata": {
    "ExecuteTime": {
     "end_time": "2021-06-15T09:55:15.739531Z",
     "start_time": "2021-06-15T09:55:15.720776Z"
    }
   },
   "outputs": [],
   "source": [
    "best_transfers = best_transfers.rename(columns ={'name':'leaving_player'})"
   ]
  },
  {
   "cell_type": "code",
   "execution_count": 211,
   "id": "4064c22f",
   "metadata": {
    "ExecuteTime": {
     "end_time": "2021-06-15T09:55:17.764335Z",
     "start_time": "2021-06-15T09:55:17.730195Z"
    }
   },
   "outputs": [
    {
     "data": {
      "text/html": [
       "<div>\n",
       "<style scoped>\n",
       "    .dataframe tbody tr th:only-of-type {\n",
       "        vertical-align: middle;\n",
       "    }\n",
       "\n",
       "    .dataframe tbody tr th {\n",
       "        vertical-align: top;\n",
       "    }\n",
       "\n",
       "    .dataframe thead th {\n",
       "        text-align: right;\n",
       "    }\n",
       "</style>\n",
       "<table border=\"1\" class=\"dataframe\">\n",
       "  <thead>\n",
       "    <tr style=\"text-align: right;\">\n",
       "      <th></th>\n",
       "      <th>leaving_player</th>\n",
       "      <th>incoming_player</th>\n",
       "      <th>position</th>\n",
       "      <th>points_difference</th>\n",
       "      <th>remaining_budget</th>\n",
       "    </tr>\n",
       "  </thead>\n",
       "  <tbody>\n",
       "    <tr>\n",
       "      <th>0</th>\n",
       "      <td>neal maupay</td>\n",
       "      <td>edinson cavani</td>\n",
       "      <td>FWD</td>\n",
       "      <td>6.409905</td>\n",
       "      <td>2.0</td>\n",
       "    </tr>\n",
       "    <tr>\n",
       "      <th>1</th>\n",
       "      <td>adam lallana</td>\n",
       "      <td>james ward-prowse</td>\n",
       "      <td>MID</td>\n",
       "      <td>4.242659</td>\n",
       "      <td>4.5</td>\n",
       "    </tr>\n",
       "    <tr>\n",
       "      <th>2</th>\n",
       "      <td>hugo lloris</td>\n",
       "      <td>vicente guaita</td>\n",
       "      <td>GK</td>\n",
       "      <td>2.800000</td>\n",
       "      <td>5.0</td>\n",
       "    </tr>\n",
       "  </tbody>\n",
       "</table>\n",
       "</div>"
      ],
      "text/plain": [
       "  leaving_player    incoming_player position  points_difference  \\\n",
       "0    neal maupay     edinson cavani      FWD           6.409905   \n",
       "1   adam lallana  james ward-prowse      MID           4.242659   \n",
       "2    hugo lloris     vicente guaita       GK           2.800000   \n",
       "\n",
       "   remaining_budget  \n",
       "0               2.0  \n",
       "1               4.5  \n",
       "2               5.0  "
      ]
     },
     "execution_count": 211,
     "metadata": {},
     "output_type": "execute_result"
    }
   ],
   "source": [
    "best_transfers"
   ]
  }
 ],
 "metadata": {
  "kernelspec": {
   "display_name": "Python 3",
   "language": "python",
   "name": "python3"
  },
  "language_info": {
   "codemirror_mode": {
    "name": "ipython",
    "version": 3
   },
   "file_extension": ".py",
   "mimetype": "text/x-python",
   "name": "python",
   "nbconvert_exporter": "python",
   "pygments_lexer": "ipython3",
   "version": "3.8.6"
  },
  "toc": {
   "base_numbering": 1,
   "nav_menu": {},
   "number_sections": true,
   "sideBar": true,
   "skip_h1_title": false,
   "title_cell": "Table of Contents",
   "title_sidebar": "Contents",
   "toc_cell": false,
   "toc_position": {},
   "toc_section_display": true,
   "toc_window_display": false
  }
 },
 "nbformat": 4,
 "nbformat_minor": 5
}
